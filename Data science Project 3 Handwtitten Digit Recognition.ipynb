{
 "cells": [
  {
   "cell_type": "markdown",
   "id": "c4a33c6d",
   "metadata": {},
   "source": [
    "# Handwritten Digit Recognition"
   ]
  },
  {
   "cell_type": "markdown",
   "id": "2a463b16",
   "metadata": {},
   "source": [
    "we are going to analyze the Handwritten Digit Recognition dataset and build a Machine Learning model to predict the quality:"
   ]
  },
  {
   "cell_type": "markdown",
   "id": "a7e36281",
   "metadata": {},
   "source": [
    "<img src=\"handwritten image.png\" width=\"\">"
   ]
  },
  {
   "cell_type": "markdown",
   "id": "db5c4616",
   "metadata": {},
   "source": [
    "# Content:-\n",
    "\n",
    "* Introduction:-\n",
    "\n",
    "* What is Handwritten Digit Recognition? \n",
    "\n",
    "* Problem Statement:-\n",
    "\n",
    "* Dataset:-\n",
    "\n",
    "* Dataset Description:-\n",
    "\n",
    "* Python Implementation:-\n",
    "            \n",
    "            \n",
    "* Import necessary libraries:-\n",
    "\n",
    "            \n",
    "* Load and preprocess the MNIST dataset:-\n",
    "\n",
    "* Understand the image data format:-\n",
    "\n",
    "* Visualize the First 36 Training Images:-\n",
    "\n",
    "* Rescale the Images by Dividing Every Pixel in Every Image by 255:-\n",
    "\n",
    "* Break Dataset into Training, Testing, and Validation Sets:-\n",
    "\n",
    "* Data Analysis Report\n",
    "\n",
    "* Applying model:-\n",
    "             \n",
    "             - Convolutional Neural Network\n",
    "             - Logistic Regression\n",
    "             - K-Nearest Neighbor\n",
    "             - Support Vector Machine\n",
    "             - Decision Tree\n",
    "             - Random Forest\n",
    "             - Gradient Boosting\n",
    "             - XG Boosting\n",
    "            \n",
    "\n",
    "* Model Comparison Report:-\n",
    "\n",
    "* Challenges Faced\n",
    "\n",
    "* Conclusion:-\n",
    " "
   ]
  },
  {
   "cell_type": "markdown",
   "id": "c314ebbc",
   "metadata": {},
   "source": [
    "# Introduction:-\n",
    "MNIST (\"Modified National Institute of Standards and Technology\") is the de facto “hello world” dataset of computer vision. Since its release in 1999, this classic dataset of handwritten images has served as the basis for benchmarking classification algorithms. As new machine learning techniques emerge, MNIST remains a reliable resource for researchers and learners alike."
   ]
  },
  {
   "cell_type": "markdown",
   "id": "7fdfeb66",
   "metadata": {},
   "source": [
    "# What is Handwritten Digit Recognition?\n",
    "Handwritten digit recognition is the process to provide the ability to machines to recognize human handwritten digits. It is not an easy task for the machine because handwritten digits are not perfect, vary from person-to-person, and can be made with many different flavors."
   ]
  },
  {
   "cell_type": "markdown",
   "id": "9288a9c3",
   "metadata": {},
   "source": [
    "# Problem Statement:-"
   ]
  },
  {
   "cell_type": "markdown",
   "id": "cec4c05a",
   "metadata": {},
   "source": [
    "Prepare a complete data analysis report on the given data.\n",
    "\n",
    "Classify a given image of a handwritten digit into one of the 10 classes representing integer values from 0 to 9.\n",
    "\n",
    "Compare between various models and find the classifier that works better.\n"
   ]
  },
  {
   "cell_type": "markdown",
   "id": "c7995576",
   "metadata": {},
   "source": [
    "# Dataset:-\n",
    "\n",
    "We will use a  Handwritten Digit Recognition Dataset.\n"
   ]
  },
  {
   "cell_type": "markdown",
   "id": "4b2c8fb9",
   "metadata": {},
   "source": [
    "# Data Description:-\n",
    "\n",
    "The MNIST dataset is a popular dataset for handwritten digit recognition.\n",
    "\n",
    "The MNIST dataset is derived from the NIST (National Institute of Standards and Technology) Special Database 3 (SD-3) and Special Database 1 (SD-1).\n",
    "\n",
    "It consists of a collection of 28x28 grayscale images of handwritten digits (0 through 9).\n",
    "\n",
    "The dataset contains 60,000 training images and 10,000 testing images.Each image is a 28x28 pixel grayscale image, resulting in 784 total pixels per image.\n",
    "\n",
    "Pixel values are integers in the range [0,255], representing the grayscale intensity.Each image is associated with a label indicating the digit it represents (0 through 9).\n",
    "\n",
    "The dataset is commonly used for training and evaluating machine learning models for digit recognition tasks.\n",
    "\n",
    "It's a suitable dataset for practicing image classification algorithms, deep learning models, and various other machine learning techniques.\n",
    "\n",
    "Dataset is well-balanced, meaning that there is an approximately equal number of examples for each digit."
   ]
  },
  {
   "cell_type": "markdown",
   "id": "60b4dedd",
   "metadata": {},
   "source": [
    "# Let’s get started !"
   ]
  },
  {
   "cell_type": "markdown",
   "id": "693f48b8",
   "metadata": {},
   "source": [
    "# Python Implementation:-\n",
    "To classify given image in to 10 classes of 'Zero', 'One',''Two','Three','Four','Five','Six','Seven','Eight','Nine'"
   ]
  },
  {
   "cell_type": "code",
   "execution_count": 1,
   "id": "9a826942",
   "metadata": {
    "scrolled": true
   },
   "outputs": [
    {
     "name": "stdout",
     "output_type": "stream",
     "text": [
      "Defaulting to user installation because normal site-packages is not writeable\n",
      "Requirement already satisfied: tensorflow in c:\\users\\pooja\\appdata\\roaming\\python\\python311\\site-packages (2.14.0)\n",
      "Requirement already satisfied: tensorflow-intel==2.14.0 in c:\\users\\pooja\\appdata\\roaming\\python\\python311\\site-packages (from tensorflow) (2.14.0)\n",
      "Requirement already satisfied: absl-py>=1.0.0 in c:\\users\\pooja\\appdata\\roaming\\python\\python311\\site-packages (from tensorflow-intel==2.14.0->tensorflow) (2.0.0)\n",
      "Requirement already satisfied: astunparse>=1.6.0 in c:\\users\\pooja\\appdata\\roaming\\python\\python311\\site-packages (from tensorflow-intel==2.14.0->tensorflow) (1.6.3)\n",
      "Requirement already satisfied: flatbuffers>=23.5.26 in c:\\users\\pooja\\appdata\\roaming\\python\\python311\\site-packages (from tensorflow-intel==2.14.0->tensorflow) (23.5.26)\n",
      "Requirement already satisfied: gast!=0.5.0,!=0.5.1,!=0.5.2,>=0.2.1 in c:\\users\\pooja\\appdata\\roaming\\python\\python311\\site-packages (from tensorflow-intel==2.14.0->tensorflow) (0.5.4)\n",
      "Requirement already satisfied: google-pasta>=0.1.1 in c:\\users\\pooja\\appdata\\roaming\\python\\python311\\site-packages (from tensorflow-intel==2.14.0->tensorflow) (0.2.0)\n",
      "Requirement already satisfied: h5py>=2.9.0 in c:\\programdata\\anaconda3\\lib\\site-packages (from tensorflow-intel==2.14.0->tensorflow) (3.7.0)\n",
      "Requirement already satisfied: libclang>=13.0.0 in c:\\users\\pooja\\appdata\\roaming\\python\\python311\\site-packages (from tensorflow-intel==2.14.0->tensorflow) (16.0.6)\n",
      "Requirement already satisfied: ml-dtypes==0.2.0 in c:\\users\\pooja\\appdata\\roaming\\python\\python311\\site-packages (from tensorflow-intel==2.14.0->tensorflow) (0.2.0)\n",
      "Requirement already satisfied: numpy>=1.23.5 in c:\\programdata\\anaconda3\\lib\\site-packages (from tensorflow-intel==2.14.0->tensorflow) (1.24.3)\n",
      "Requirement already satisfied: opt-einsum>=2.3.2 in c:\\users\\pooja\\appdata\\roaming\\python\\python311\\site-packages (from tensorflow-intel==2.14.0->tensorflow) (3.3.0)\n",
      "Requirement already satisfied: packaging in c:\\programdata\\anaconda3\\lib\\site-packages (from tensorflow-intel==2.14.0->tensorflow) (23.0)\n",
      "Requirement already satisfied: protobuf!=4.21.0,!=4.21.1,!=4.21.2,!=4.21.3,!=4.21.4,!=4.21.5,<5.0.0dev,>=3.20.3 in c:\\users\\pooja\\appdata\\roaming\\python\\python311\\site-packages (from tensorflow-intel==2.14.0->tensorflow) (4.24.4)\n",
      "Requirement already satisfied: setuptools in c:\\programdata\\anaconda3\\lib\\site-packages (from tensorflow-intel==2.14.0->tensorflow) (67.8.0)\n",
      "Requirement already satisfied: six>=1.12.0 in c:\\programdata\\anaconda3\\lib\\site-packages (from tensorflow-intel==2.14.0->tensorflow) (1.16.0)\n",
      "Requirement already satisfied: termcolor>=1.1.0 in c:\\users\\pooja\\appdata\\roaming\\python\\python311\\site-packages (from tensorflow-intel==2.14.0->tensorflow) (2.3.0)\n",
      "Requirement already satisfied: typing-extensions>=3.6.6 in c:\\programdata\\anaconda3\\lib\\site-packages (from tensorflow-intel==2.14.0->tensorflow) (4.6.3)\n",
      "Requirement already satisfied: wrapt<1.15,>=1.11.0 in c:\\programdata\\anaconda3\\lib\\site-packages (from tensorflow-intel==2.14.0->tensorflow) (1.14.1)\n",
      "Requirement already satisfied: tensorflow-io-gcs-filesystem>=0.23.1 in c:\\users\\pooja\\appdata\\roaming\\python\\python311\\site-packages (from tensorflow-intel==2.14.0->tensorflow) (0.31.0)\n",
      "Requirement already satisfied: grpcio<2.0,>=1.24.3 in c:\\users\\pooja\\appdata\\roaming\\python\\python311\\site-packages (from tensorflow-intel==2.14.0->tensorflow) (1.59.0)\n",
      "Requirement already satisfied: tensorboard<2.15,>=2.14 in c:\\users\\pooja\\appdata\\roaming\\python\\python311\\site-packages (from tensorflow-intel==2.14.0->tensorflow) (2.14.1)\n",
      "Requirement already satisfied: tensorflow-estimator<2.15,>=2.14.0 in c:\\users\\pooja\\appdata\\roaming\\python\\python311\\site-packages (from tensorflow-intel==2.14.0->tensorflow) (2.14.0)\n",
      "Requirement already satisfied: keras<2.15,>=2.14.0 in c:\\users\\pooja\\appdata\\roaming\\python\\python311\\site-packages (from tensorflow-intel==2.14.0->tensorflow) (2.14.0)\n",
      "Requirement already satisfied: wheel<1.0,>=0.23.0 in c:\\programdata\\anaconda3\\lib\\site-packages (from astunparse>=1.6.0->tensorflow-intel==2.14.0->tensorflow) (0.38.4)\n",
      "Requirement already satisfied: google-auth<3,>=1.6.3 in c:\\users\\pooja\\appdata\\roaming\\python\\python311\\site-packages (from tensorboard<2.15,>=2.14->tensorflow-intel==2.14.0->tensorflow) (2.23.3)\n",
      "Requirement already satisfied: google-auth-oauthlib<1.1,>=0.5 in c:\\users\\pooja\\appdata\\roaming\\python\\python311\\site-packages (from tensorboard<2.15,>=2.14->tensorflow-intel==2.14.0->tensorflow) (1.0.0)\n",
      "Requirement already satisfied: markdown>=2.6.8 in c:\\programdata\\anaconda3\\lib\\site-packages (from tensorboard<2.15,>=2.14->tensorflow-intel==2.14.0->tensorflow) (3.4.1)\n",
      "Requirement already satisfied: requests<3,>=2.21.0 in c:\\programdata\\anaconda3\\lib\\site-packages (from tensorboard<2.15,>=2.14->tensorflow-intel==2.14.0->tensorflow) (2.29.0)\n",
      "Requirement already satisfied: tensorboard-data-server<0.8.0,>=0.7.0 in c:\\users\\pooja\\appdata\\roaming\\python\\python311\\site-packages (from tensorboard<2.15,>=2.14->tensorflow-intel==2.14.0->tensorflow) (0.7.1)\n",
      "Requirement already satisfied: werkzeug>=1.0.1 in c:\\programdata\\anaconda3\\lib\\site-packages (from tensorboard<2.15,>=2.14->tensorflow-intel==2.14.0->tensorflow) (2.2.3)\n",
      "Requirement already satisfied: cachetools<6.0,>=2.0.0 in c:\\users\\pooja\\appdata\\roaming\\python\\python311\\site-packages (from google-auth<3,>=1.6.3->tensorboard<2.15,>=2.14->tensorflow-intel==2.14.0->tensorflow) (5.3.1)\n",
      "Requirement already satisfied: pyasn1-modules>=0.2.1 in c:\\programdata\\anaconda3\\lib\\site-packages (from google-auth<3,>=1.6.3->tensorboard<2.15,>=2.14->tensorflow-intel==2.14.0->tensorflow) (0.2.8)\n",
      "Requirement already satisfied: rsa<5,>=3.1.4 in c:\\users\\pooja\\appdata\\roaming\\python\\python311\\site-packages (from google-auth<3,>=1.6.3->tensorboard<2.15,>=2.14->tensorflow-intel==2.14.0->tensorflow) (4.9)\n",
      "Requirement already satisfied: requests-oauthlib>=0.7.0 in c:\\users\\pooja\\appdata\\roaming\\python\\python311\\site-packages (from google-auth-oauthlib<1.1,>=0.5->tensorboard<2.15,>=2.14->tensorflow-intel==2.14.0->tensorflow) (1.3.1)\n",
      "Requirement already satisfied: charset-normalizer<4,>=2 in c:\\programdata\\anaconda3\\lib\\site-packages (from requests<3,>=2.21.0->tensorboard<2.15,>=2.14->tensorflow-intel==2.14.0->tensorflow) (2.0.4)\n",
      "Requirement already satisfied: idna<4,>=2.5 in c:\\programdata\\anaconda3\\lib\\site-packages (from requests<3,>=2.21.0->tensorboard<2.15,>=2.14->tensorflow-intel==2.14.0->tensorflow) (3.4)\n",
      "Requirement already satisfied: urllib3<1.27,>=1.21.1 in c:\\programdata\\anaconda3\\lib\\site-packages (from requests<3,>=2.21.0->tensorboard<2.15,>=2.14->tensorflow-intel==2.14.0->tensorflow) (1.26.16)\n",
      "Requirement already satisfied: certifi>=2017.4.17 in c:\\programdata\\anaconda3\\lib\\site-packages (from requests<3,>=2.21.0->tensorboard<2.15,>=2.14->tensorflow-intel==2.14.0->tensorflow) (2023.5.7)\n",
      "Requirement already satisfied: MarkupSafe>=2.1.1 in c:\\programdata\\anaconda3\\lib\\site-packages (from werkzeug>=1.0.1->tensorboard<2.15,>=2.14->tensorflow-intel==2.14.0->tensorflow) (2.1.1)\n",
      "Requirement already satisfied: pyasn1<0.5.0,>=0.4.6 in c:\\programdata\\anaconda3\\lib\\site-packages (from pyasn1-modules>=0.2.1->google-auth<3,>=1.6.3->tensorboard<2.15,>=2.14->tensorflow-intel==2.14.0->tensorflow) (0.4.8)\n",
      "Requirement already satisfied: oauthlib>=3.0.0 in c:\\users\\pooja\\appdata\\roaming\\python\\python311\\site-packages (from requests-oauthlib>=0.7.0->google-auth-oauthlib<1.1,>=0.5->tensorboard<2.15,>=2.14->tensorflow-intel==2.14.0->tensorflow) (3.2.2)\n"
     ]
    }
   ],
   "source": [
    "!pip install tensorflow"
   ]
  },
  {
   "cell_type": "code",
   "execution_count": 2,
   "id": "b17cd44f",
   "metadata": {},
   "outputs": [
    {
     "name": "stdout",
     "output_type": "stream",
     "text": [
      "Defaulting to user installation because normal site-packages is not writeable\n",
      "Requirement already satisfied: keras in c:\\users\\pooja\\appdata\\roaming\\python\\python311\\site-packages (2.14.0)\n"
     ]
    }
   ],
   "source": [
    "!pip install keras"
   ]
  },
  {
   "cell_type": "markdown",
   "id": "fa47bc8b",
   "metadata": {},
   "source": [
    "# Import necessary libraries:-\n"
   ]
  },
  {
   "cell_type": "code",
   "execution_count": 1,
   "id": "3a21800b",
   "metadata": {},
   "outputs": [],
   "source": [
    "\n",
    "from keras.datasets import mnist\n",
    "from keras.preprocessing.image import load_img, array_to_img\n",
    "from keras.utils import to_categorical\n",
    "from keras.models import Sequential\n",
    "from keras.layers import Dense\n",
    "\n",
    "import numpy as np\n",
    "import matplotlib.pyplot as plt\n",
    "%matplotlib inline\n",
    "import warnings\n",
    "warnings.filterwarnings('ignore')"
   ]
  },
  {
   "cell_type": "markdown",
   "id": "2d96845d",
   "metadata": {},
   "source": [
    "# Load and preprocess the MNIST dataset:-"
   ]
  },
  {
   "cell_type": "code",
   "execution_count": 2,
   "id": "d0a34a1f",
   "metadata": {},
   "outputs": [],
   "source": [
    "(x_train, y_train), (x_test, y_test) = mnist.load_data()"
   ]
  },
  {
   "cell_type": "markdown",
   "id": "29e9d56e",
   "metadata": {},
   "source": [
    "It looks like you are trying to load the mnist dataset using Keras. mnist is a popular dataset for image classification tasks, containing 70,000 28x28 color images in 10 different classes."
   ]
  },
  {
   "cell_type": "code",
   "execution_count": 3,
   "id": "3acdfe11",
   "metadata": {
    "scrolled": true
   },
   "outputs": [
    {
     "name": "stdout",
     "output_type": "stream",
     "text": [
      "(60000, 28, 28)\n",
      "(60000,)\n",
      "(10000, 28, 28)\n",
      "(10000,)\n"
     ]
    }
   ],
   "source": [
    "print(x_train.shape)\n",
    "print(y_train.shape)\n",
    "print(x_test.shape)\n",
    "print(y_test.shape)\n"
   ]
  },
  {
   "cell_type": "markdown",
   "id": "b3e8245f",
   "metadata": {},
   "source": [
    "60000:Training dataset indicates that there are 60,000 images in the dataset.\n",
    "    \n",
    "10000:Testing dataset indicates that there are 10,000 images in the dataset.    \n",
    "\n",
    "28: This represents the height of each image in pixels.\n",
    "\n",
    "28: This represents the width of each image in pixels.\n",
    "    "
   ]
  },
  {
   "cell_type": "markdown",
   "id": "eeb78445",
   "metadata": {},
   "source": [
    "# Understand the image data format:-"
   ]
  },
  {
   "cell_type": "code",
   "execution_count": 4,
   "id": "e16bf397",
   "metadata": {},
   "outputs": [
    {
     "data": {
      "text/plain": [
       "(28, 28)"
      ]
     },
     "execution_count": 4,
     "metadata": {},
     "output_type": "execute_result"
    }
   ],
   "source": [
    "x_train[0].shape"
   ]
  },
  {
   "cell_type": "code",
   "execution_count": 5,
   "id": "34021409",
   "metadata": {},
   "outputs": [
    {
     "data": {
      "text/plain": [
       "<matplotlib.image.AxesImage at 0x28795fdcd10>"
      ]
     },
     "execution_count": 5,
     "metadata": {},
     "output_type": "execute_result"
    },
    {
     "data": {
      "image/png": "[encoded data removed]",
      "text/plain": [
       "<Figure size 640x480 with 1 Axes>"
      ]
     },
     "metadata": {},
     "output_type": "display_data"
    }
   ],
   "source": [
    "plt.imshow(x_train[0],cmap='gray')"
   ]
  },
  {
   "cell_type": "code",
   "execution_count": 6,
   "id": "7d3bff4f",
   "metadata": {},
   "outputs": [
    {
     "data": {
      "text/plain": [
       "5"
      ]
     },
     "execution_count": 6,
     "metadata": {},
     "output_type": "execute_result"
    }
   ],
   "source": [
    "y_train[0]"
   ]
  },
  {
   "cell_type": "markdown",
   "id": "f3a19cd9",
   "metadata": {},
   "source": [
    "# Visualize the First 36 Training Images:-"
   ]
  },
  {
   "cell_type": "code",
   "execution_count": 7,
   "id": "4a1b86e5",
   "metadata": {},
   "outputs": [
    {
     "data": {
      "image/png": "[encoded data removed]",
      "text/plain": [
       "<Figure size 2000x500 with 36 Axes>"
      ]
     },
     "metadata": {},
     "output_type": "display_data"
    }
   ],
   "source": [
    "import numpy as np\n",
    "import matplotlib.pyplot as plt\n",
    "%matplotlib inline\n",
    "\n",
    "fig = plt.figure(figsize=(20, 5))\n",
    "for i in range(36):\n",
    "    ax = fig.add_subplot(3, 12, i + 1, xticks=[], yticks=[])  # Corrected Xticks to xticks\n",
    "    ax.imshow(np.squeeze(x_train[i]), cmap='gray') "
   ]
  },
  {
   "cell_type": "markdown",
   "id": "4dfd1fbc",
   "metadata": {},
   "source": [
    "It appears you're trying to display the first 36 images from the MNIST dataset. The code you provided uses Matplotlib to create a figure with a grid of 3 rows and 12 columns, displaying each of the 36 images"
   ]
  },
  {
   "cell_type": "markdown",
   "id": "8519078b",
   "metadata": {},
   "source": [
    "# Rescale the Images by Dividing Every Pixel in Every Image by 255:-"
   ]
  },
  {
   "cell_type": "code",
   "execution_count": 8,
   "id": "6a76d28a",
   "metadata": {
    "scrolled": false
   },
   "outputs": [
    {
     "data": {
      "text/plain": [
       "array([[[0, 0, 0, ..., 0, 0, 0],\n",
       "        [0, 0, 0, ..., 0, 0, 0],\n",
       "        [0, 0, 0, ..., 0, 0, 0],\n",
       "        ...,\n",
       "        [0, 0, 0, ..., 0, 0, 0],\n",
       "        [0, 0, 0, ..., 0, 0, 0],\n",
       "        [0, 0, 0, ..., 0, 0, 0]],\n",
       "\n",
       "       [[0, 0, 0, ..., 0, 0, 0],\n",
       "        [0, 0, 0, ..., 0, 0, 0],\n",
       "        [0, 0, 0, ..., 0, 0, 0],\n",
       "        ...,\n",
       "        [0, 0, 0, ..., 0, 0, 0],\n",
       "        [0, 0, 0, ..., 0, 0, 0],\n",
       "        [0, 0, 0, ..., 0, 0, 0]],\n",
       "\n",
       "       [[0, 0, 0, ..., 0, 0, 0],\n",
       "        [0, 0, 0, ..., 0, 0, 0],\n",
       "        [0, 0, 0, ..., 0, 0, 0],\n",
       "        ...,\n",
       "        [0, 0, 0, ..., 0, 0, 0],\n",
       "        [0, 0, 0, ..., 0, 0, 0],\n",
       "        [0, 0, 0, ..., 0, 0, 0]],\n",
       "\n",
       "       ...,\n",
       "\n",
       "       [[0, 0, 0, ..., 0, 0, 0],\n",
       "        [0, 0, 0, ..., 0, 0, 0],\n",
       "        [0, 0, 0, ..., 0, 0, 0],\n",
       "        ...,\n",
       "        [0, 0, 0, ..., 0, 0, 0],\n",
       "        [0, 0, 0, ..., 0, 0, 0],\n",
       "        [0, 0, 0, ..., 0, 0, 0]],\n",
       "\n",
       "       [[0, 0, 0, ..., 0, 0, 0],\n",
       "        [0, 0, 0, ..., 0, 0, 0],\n",
       "        [0, 0, 0, ..., 0, 0, 0],\n",
       "        ...,\n",
       "        [0, 0, 0, ..., 0, 0, 0],\n",
       "        [0, 0, 0, ..., 0, 0, 0],\n",
       "        [0, 0, 0, ..., 0, 0, 0]],\n",
       "\n",
       "       [[0, 0, 0, ..., 0, 0, 0],\n",
       "        [0, 0, 0, ..., 0, 0, 0],\n",
       "        [0, 0, 0, ..., 0, 0, 0],\n",
       "        ...,\n",
       "        [0, 0, 0, ..., 0, 0, 0],\n",
       "        [0, 0, 0, ..., 0, 0, 0],\n",
       "        [0, 0, 0, ..., 0, 0, 0]]], dtype=uint8)"
      ]
     },
     "execution_count": 8,
     "metadata": {},
     "output_type": "execute_result"
    }
   ],
   "source": [
    "x_train"
   ]
  },
  {
   "cell_type": "markdown",
   "id": "211a1818",
   "metadata": {},
   "source": [
    "* The uint8 data type stands for \"unsigned 8-bit integer,\" which means that each pixel value in the image is an integer ranging from 0 to 255."
   ]
  },
  {
   "cell_type": "code",
   "execution_count": 9,
   "id": "107f9330",
   "metadata": {},
   "outputs": [],
   "source": [
    "x_train = x_train.astype('float32')/255\n",
    "x_test = x_test.astype('float32')/255"
   ]
  },
  {
   "cell_type": "code",
   "execution_count": 10,
   "id": "19b07bd8",
   "metadata": {
    "scrolled": true
   },
   "outputs": [
    {
     "data": {
      "text/plain": [
       "array([[[0., 0., 0., ..., 0., 0., 0.],\n",
       "        [0., 0., 0., ..., 0., 0., 0.],\n",
       "        [0., 0., 0., ..., 0., 0., 0.],\n",
       "        ...,\n",
       "        [0., 0., 0., ..., 0., 0., 0.],\n",
       "        [0., 0., 0., ..., 0., 0., 0.],\n",
       "        [0., 0., 0., ..., 0., 0., 0.]],\n",
       "\n",
       "       [[0., 0., 0., ..., 0., 0., 0.],\n",
       "        [0., 0., 0., ..., 0., 0., 0.],\n",
       "        [0., 0., 0., ..., 0., 0., 0.],\n",
       "        ...,\n",
       "        [0., 0., 0., ..., 0., 0., 0.],\n",
       "        [0., 0., 0., ..., 0., 0., 0.],\n",
       "        [0., 0., 0., ..., 0., 0., 0.]],\n",
       "\n",
       "       [[0., 0., 0., ..., 0., 0., 0.],\n",
       "        [0., 0., 0., ..., 0., 0., 0.],\n",
       "        [0., 0., 0., ..., 0., 0., 0.],\n",
       "        ...,\n",
       "        [0., 0., 0., ..., 0., 0., 0.],\n",
       "        [0., 0., 0., ..., 0., 0., 0.],\n",
       "        [0., 0., 0., ..., 0., 0., 0.]],\n",
       "\n",
       "       ...,\n",
       "\n",
       "       [[0., 0., 0., ..., 0., 0., 0.],\n",
       "        [0., 0., 0., ..., 0., 0., 0.],\n",
       "        [0., 0., 0., ..., 0., 0., 0.],\n",
       "        ...,\n",
       "        [0., 0., 0., ..., 0., 0., 0.],\n",
       "        [0., 0., 0., ..., 0., 0., 0.],\n",
       "        [0., 0., 0., ..., 0., 0., 0.]],\n",
       "\n",
       "       [[0., 0., 0., ..., 0., 0., 0.],\n",
       "        [0., 0., 0., ..., 0., 0., 0.],\n",
       "        [0., 0., 0., ..., 0., 0., 0.],\n",
       "        ...,\n",
       "        [0., 0., 0., ..., 0., 0., 0.],\n",
       "        [0., 0., 0., ..., 0., 0., 0.],\n",
       "        [0., 0., 0., ..., 0., 0., 0.]],\n",
       "\n",
       "       [[0., 0., 0., ..., 0., 0., 0.],\n",
       "        [0., 0., 0., ..., 0., 0., 0.],\n",
       "        [0., 0., 0., ..., 0., 0., 0.],\n",
       "        ...,\n",
       "        [0., 0., 0., ..., 0., 0., 0.],\n",
       "        [0., 0., 0., ..., 0., 0., 0.],\n",
       "        [0., 0., 0., ..., 0., 0., 0.]]], dtype=float32)"
      ]
     },
     "execution_count": 10,
     "metadata": {},
     "output_type": "execute_result"
    }
   ],
   "source": [
    "x_train"
   ]
  },
  {
   "cell_type": "code",
   "execution_count": 11,
   "id": "fc4da3bc",
   "metadata": {},
   "outputs": [
    {
     "data": {
      "text/plain": [
       "array([[[0., 0., 0., ..., 0., 0., 0.],\n",
       "        [0., 0., 0., ..., 0., 0., 0.],\n",
       "        [0., 0., 0., ..., 0., 0., 0.],\n",
       "        ...,\n",
       "        [0., 0., 0., ..., 0., 0., 0.],\n",
       "        [0., 0., 0., ..., 0., 0., 0.],\n",
       "        [0., 0., 0., ..., 0., 0., 0.]],\n",
       "\n",
       "       [[0., 0., 0., ..., 0., 0., 0.],\n",
       "        [0., 0., 0., ..., 0., 0., 0.],\n",
       "        [0., 0., 0., ..., 0., 0., 0.],\n",
       "        ...,\n",
       "        [0., 0., 0., ..., 0., 0., 0.],\n",
       "        [0., 0., 0., ..., 0., 0., 0.],\n",
       "        [0., 0., 0., ..., 0., 0., 0.]],\n",
       "\n",
       "       [[0., 0., 0., ..., 0., 0., 0.],\n",
       "        [0., 0., 0., ..., 0., 0., 0.],\n",
       "        [0., 0., 0., ..., 0., 0., 0.],\n",
       "        ...,\n",
       "        [0., 0., 0., ..., 0., 0., 0.],\n",
       "        [0., 0., 0., ..., 0., 0., 0.],\n",
       "        [0., 0., 0., ..., 0., 0., 0.]],\n",
       "\n",
       "       ...,\n",
       "\n",
       "       [[0., 0., 0., ..., 0., 0., 0.],\n",
       "        [0., 0., 0., ..., 0., 0., 0.],\n",
       "        [0., 0., 0., ..., 0., 0., 0.],\n",
       "        ...,\n",
       "        [0., 0., 0., ..., 0., 0., 0.],\n",
       "        [0., 0., 0., ..., 0., 0., 0.],\n",
       "        [0., 0., 0., ..., 0., 0., 0.]],\n",
       "\n",
       "       [[0., 0., 0., ..., 0., 0., 0.],\n",
       "        [0., 0., 0., ..., 0., 0., 0.],\n",
       "        [0., 0., 0., ..., 0., 0., 0.],\n",
       "        ...,\n",
       "        [0., 0., 0., ..., 0., 0., 0.],\n",
       "        [0., 0., 0., ..., 0., 0., 0.],\n",
       "        [0., 0., 0., ..., 0., 0., 0.]],\n",
       "\n",
       "       [[0., 0., 0., ..., 0., 0., 0.],\n",
       "        [0., 0., 0., ..., 0., 0., 0.],\n",
       "        [0., 0., 0., ..., 0., 0., 0.],\n",
       "        ...,\n",
       "        [0., 0., 0., ..., 0., 0., 0.],\n",
       "        [0., 0., 0., ..., 0., 0., 0.],\n",
       "        [0., 0., 0., ..., 0., 0., 0.]]], dtype=float32)"
      ]
     },
     "execution_count": 11,
     "metadata": {},
     "output_type": "execute_result"
    }
   ],
   "source": [
    "x_test"
   ]
  },
  {
   "cell_type": "markdown",
   "id": "ba74904b",
   "metadata": {},
   "source": [
    "# Break Dataset into Training, Testing, and Validation Sets:-"
   ]
  },
  {
   "cell_type": "code",
   "execution_count": 12,
   "id": "f1f72e50",
   "metadata": {},
   "outputs": [
    {
     "data": {
      "text/plain": [
       "array([7, 2, 1, ..., 4, 5, 6], dtype=uint8)"
      ]
     },
     "execution_count": 12,
     "metadata": {},
     "output_type": "execute_result"
    }
   ],
   "source": [
    "y_test"
   ]
  },
  {
   "cell_type": "code",
   "execution_count": 13,
   "id": "77171859",
   "metadata": {},
   "outputs": [
    {
     "data": {
      "text/plain": [
       "array([5, 0, 4, ..., 5, 6, 8], dtype=uint8)"
      ]
     },
     "execution_count": 13,
     "metadata": {},
     "output_type": "execute_result"
    }
   ],
   "source": [
    "y_train\n"
   ]
  },
  {
   "cell_type": "code",
   "execution_count": 14,
   "id": "04b31e64",
   "metadata": {},
   "outputs": [
    {
     "name": "stdout",
     "output_type": "stream",
     "text": [
      "x_train shape: (55000, 28, 28)\n",
      "55000 train samples\n",
      "10000 test samples\n",
      "5000 validation samples\n"
     ]
    }
   ],
   "source": [
    "# from keras.utils import np_utils\n",
    "#from tensorflow import keras\n",
    "import keras\n",
    "from keras.utils import to_categorical\n",
    "\n",
    "# one-hot encode the labels\n",
    "# num_classes = len(np.unique(y_train))\n",
    "y_train = keras.utils.to_categorical(y_train, num_classes=None)\n",
    "y_test = keras.utils.to_categorical(y_test, num_classes=None)\n",
    "\n",
    "# break training set into training and validation sets\n",
    "(x_train, x_valid) = x_train[5000:], x_train[:5000]\n",
    "(y_train, y_valid) = y_train[5000:], y_train[:5000]\n",
    "\n",
    "# print shape of training set\n",
    "print('x_train shape:', x_train.shape)\n",
    "\n",
    "# print number of training, validation, and test images\n",
    "print(x_train.shape[0], 'train samples')\n",
    "print(x_test.shape[0], 'test samples')\n",
    "print(x_valid.shape[0], 'validation samples')"
   ]
  },
  {
   "cell_type": "markdown",
   "id": "204336cd",
   "metadata": {},
   "source": [
    "Validation sets are used to assess how well the model is performing during training. By evaluating the model's performance on a separate set of data that it has never seen before (the validation set), you get a more unbiased estimate of the model's ability to generalize to new, unseen data. This helps you avoid overfitting, where the model becomes too specific to the training data and performs poorly on new data."
   ]
  },
  {
   "cell_type": "markdown",
   "id": "bb6d9145",
   "metadata": {},
   "source": [
    "# Data Analysis Report:-\n",
    "The MNIST dataset comprises 28x28 grayscale images of handwritten digits (0-9), with 60,000 training and 10,000 testing samples. It is commonly used for digit recognition tasks. Exploratory data analysis reveals a balanced distribution of digits, and visual inspection showcases the diversity in writing styles. The dataset is well-suited for training and evaluating machine learning models for image classification."
   ]
  },
  {
   "cell_type": "markdown",
   "id": "2d0ed980",
   "metadata": {},
   "source": [
    "# Applying Model:-"
   ]
  },
  {
   "cell_type": "markdown",
   "id": "19496dfb",
   "metadata": {},
   "source": [
    "# 1) Convolutional Neural Network"
   ]
  },
  {
   "cell_type": "code",
   "execution_count": 15,
   "id": "814876fb",
   "metadata": {},
   "outputs": [
    {
     "name": "stdout",
     "output_type": "stream",
     "text": [
      "Model: \"sequential\"\n",
      "_________________________________________________________________\n",
      " Layer (type)                Output Shape              Param #   \n",
      "=================================================================\n",
      " conv2d (Conv2D)             (None, 28, 28, 16)        160       \n",
      "                                                                 \n",
      " max_pooling2d (MaxPooling2  (None, 14, 14, 16)        0         \n",
      " D)                                                              \n",
      "                                                                 \n",
      " conv2d_1 (Conv2D)           (None, 14, 14, 32)        4640      \n",
      "                                                                 \n",
      " max_pooling2d_1 (MaxPoolin  (None, 7, 7, 32)          0         \n",
      " g2D)                                                            \n",
      "                                                                 \n",
      " conv2d_2 (Conv2D)           (None, 7, 7, 64)          18496     \n",
      "                                                                 \n",
      " max_pooling2d_2 (MaxPoolin  (None, 3, 3, 64)          0         \n",
      " g2D)                                                            \n",
      "                                                                 \n",
      " dropout (Dropout)           (None, 3, 3, 64)          0         \n",
      "                                                                 \n",
      " flatten (Flatten)           (None, 576)               0         \n",
      "                                                                 \n",
      " dense (Dense)               (None, 500)               288500    \n",
      "                                                                 \n",
      " dropout_1 (Dropout)         (None, 500)               0         \n",
      "                                                                 \n",
      " dense_1 (Dense)             (None, 10)                5010      \n",
      "                                                                 \n",
      "=================================================================\n",
      "Total params: 316806 (1.21 MB)\n",
      "Trainable params: 316806 (1.21 MB)\n",
      "Non-trainable params: 0 (0.00 Byte)\n",
      "_________________________________________________________________\n"
     ]
    }
   ],
   "source": [
    "from keras.models import Sequential\n",
    "from keras.layers import Conv2D, MaxPooling2D, Flatten, Dense, Dropout\n",
    "\n",
    "model = Sequential()\n",
    "model.add(Conv2D(filters=16, kernel_size=3, padding='same', activation='relu',input_shape=(28, 28,1)))\n",
    "model.add(MaxPooling2D(pool_size=2))\n",
    "model.add(Conv2D(filters=32, kernel_size=3, padding='same', activation='relu'))\n",
    "model.add(MaxPooling2D(pool_size=2))\n",
    "model.add(Conv2D(filters=64, kernel_size=3, padding='same', activation='relu'))\n",
    "model.add(MaxPooling2D(pool_size=2))\n",
    "model.add(Dropout(0.3))\n",
    "model.add(Flatten())\n",
    "model.add(Dense(500, activation='relu'))\n",
    "model.add(Dropout(0.3))\n",
    "model.add(Dense(10, activation='softmax'))\n",
    "\n",
    "model.summary()"
   ]
  },
  {
   "cell_type": "markdown",
   "id": "a1683a4f",
   "metadata": {},
   "source": [
    "In Keras, the Sequential model is a linear stack of layers, where you can simply add one layer at a time. It's a basic and straightforward way to create neural networks.\n",
    "\n",
    "filters=16: This parameter specifies the number of filters in the convolutional layer. Each filter learns to detect different patterns or features in the input data. In this case, there are 16 filters, meaning the layer will learn 16 different sets of features.\n",
    "\n",
    "Dropout: to avoid overfitting.\n",
    "\n",
    "pool_size=2: This parameter defines the size of the window over which the maximum value will be selected. In this case, a pool size of 2 means the operation is applied in 2x2 regions. For every 2x2 region in the input, the maximum value within that region is retained, and the rest are discarded."
   ]
  },
  {
   "cell_type": "markdown",
   "id": "5a40579a",
   "metadata": {},
   "source": [
    "### Compile the Model"
   ]
  },
  {
   "cell_type": "code",
   "execution_count": 16,
   "id": "5b6502c0",
   "metadata": {},
   "outputs": [],
   "source": [
    "model.compile(loss='categorical_crossentropy', optimizer='adam', metrics=['accuracy'])"
   ]
  },
  {
   "cell_type": "markdown",
   "id": "7dbf9ff9",
   "metadata": {},
   "source": [
    "loss='categorical_crossentropy': This parameter specifies the loss function that the model will use during training. In this case, categorical_crossentropy is used, which is a common choice for multi-class classification problems. It measures the difference between the true labels and the predicted probabilities, aiming to minimize this difference during training.\n",
    "\n",
    "optimizer='rmsprop': This parameter specifies the optimization algorithm used to update the weights of the neural network during training. 'rmsprop' stands for Root Mean Square Propagation, which is an adaptive learning rate optimization algorithm. RMSprop adjusts the learning rates of each parameter based on their historical gradients, allowing for faster convergence.\n",
    "\n",
    "metrics=['accuracy']: This parameter specifies the evaluation metric(s) that will be monitored during training. In this case, ['accuracy'] indicates that the accuracy of the model on the validation or test data will be calculated and displayed after each epoch. Accuracy is a commonly used metric for classification problems, representing the ratio of correctly predicted samples to the total number of samples."
   ]
  },
  {
   "cell_type": "markdown",
   "id": "f5bd7684",
   "metadata": {},
   "source": [
    "### Train the Model"
   ]
  },
  {
   "cell_type": "code",
   "execution_count": 23,
   "id": "8f5c0825",
   "metadata": {},
   "outputs": [
    {
     "name": "stdout",
     "output_type": "stream",
     "text": [
      "Epoch 1/10\n",
      "1718/1719 [============================>.] - ETA: 0s - loss: 0.0508 - accuracy: 0.9838\n",
      "Epoch 1: val_loss improved from inf to 0.03403, saving model to model.weights.best.hdf5\n",
      "1719/1719 [==============================] - 43s 25ms/step - loss: 0.0508 - accuracy: 0.9838 - val_loss: 0.0340 - val_accuracy: 0.9904\n",
      "Epoch 2/10\n",
      "1718/1719 [============================>.] - ETA: 0s - loss: 0.0432 - accuracy: 0.9861\n",
      "Epoch 2: val_loss improved from 0.03403 to 0.03378, saving model to model.weights.best.hdf5\n",
      "1719/1719 [==============================] - 40s 23ms/step - loss: 0.0433 - accuracy: 0.9861 - val_loss: 0.0338 - val_accuracy: 0.9892\n",
      "Epoch 3/10\n",
      "1717/1719 [============================>.] - ETA: 0s - loss: 0.0358 - accuracy: 0.9882\n",
      "Epoch 3: val_loss did not improve from 0.03378\n",
      "1719/1719 [==============================] - 38s 22ms/step - loss: 0.0358 - accuracy: 0.9882 - val_loss: 0.0401 - val_accuracy: 0.9892\n",
      "Epoch 4/10\n",
      "1719/1719 [==============================] - ETA: 0s - loss: 0.0309 - accuracy: 0.9906\n",
      "Epoch 4: val_loss improved from 0.03378 to 0.02967, saving model to model.weights.best.hdf5\n",
      "1719/1719 [==============================] - 44s 25ms/step - loss: 0.0309 - accuracy: 0.9906 - val_loss: 0.0297 - val_accuracy: 0.9916\n",
      "Epoch 5/10\n",
      "1717/1719 [============================>.] - ETA: 0s - loss: 0.0272 - accuracy: 0.9914\n",
      "Epoch 5: val_loss improved from 0.02967 to 0.02875, saving model to model.weights.best.hdf5\n",
      "1719/1719 [==============================] - 39s 23ms/step - loss: 0.0273 - accuracy: 0.9914 - val_loss: 0.0287 - val_accuracy: 0.9934\n",
      "Epoch 6/10\n",
      "1717/1719 [============================>.] - ETA: 0s - loss: 0.0275 - accuracy: 0.9909\n",
      "Epoch 6: val_loss improved from 0.02875 to 0.02620, saving model to model.weights.best.hdf5\n",
      "1719/1719 [==============================] - 41s 24ms/step - loss: 0.0275 - accuracy: 0.9909 - val_loss: 0.0262 - val_accuracy: 0.9922\n",
      "Epoch 7/10\n",
      "1719/1719 [==============================] - ETA: 0s - loss: 0.0227 - accuracy: 0.9926\n",
      "Epoch 7: val_loss did not improve from 0.02620\n",
      "1719/1719 [==============================] - 41s 24ms/step - loss: 0.0227 - accuracy: 0.9926 - val_loss: 0.0336 - val_accuracy: 0.9916\n",
      "Epoch 8/10\n",
      "1718/1719 [============================>.] - ETA: 0s - loss: 0.0215 - accuracy: 0.9931\n",
      "Epoch 8: val_loss did not improve from 0.02620\n",
      "1719/1719 [==============================] - 42s 25ms/step - loss: 0.0215 - accuracy: 0.9931 - val_loss: 0.0284 - val_accuracy: 0.9928\n",
      "Epoch 9/10\n",
      "1718/1719 [============================>.] - ETA: 0s - loss: 0.0218 - accuracy: 0.9932\n",
      "Epoch 9: val_loss improved from 0.02620 to 0.02403, saving model to model.weights.best.hdf5\n",
      "1719/1719 [==============================] - 44s 26ms/step - loss: 0.0218 - accuracy: 0.9932 - val_loss: 0.0240 - val_accuracy: 0.9924\n",
      "Epoch 10/10\n",
      "1718/1719 [============================>.] - ETA: 0s - loss: 0.0185 - accuracy: 0.9941\n",
      "Epoch 10: val_loss did not improve from 0.02403\n",
      "1719/1719 [==============================] - 42s 24ms/step - loss: 0.0185 - accuracy: 0.9941 - val_loss: 0.0312 - val_accuracy: 0.9920\n"
     ]
    }
   ],
   "source": [
    "from keras.callbacks import ModelCheckpoint   \n",
    "\n",
    "# train the model\n",
    "checkpointer = ModelCheckpoint(filepath='model.weights.best.hdf5', verbose=1, save_best_only=True)\n",
    "\n",
    "hist = model.fit(x_train, y_train, batch_size=32, epochs=10,\n",
    "          validation_data=(x_valid, y_valid), callbacks=[checkpointer], \n",
    "          verbose=1, shuffle=True)"
   ]
  },
  {
   "cell_type": "markdown",
   "id": "348d7bea",
   "metadata": {},
   "source": [
    "### Load the Model with the Best Validation Accuracy"
   ]
  },
  {
   "cell_type": "code",
   "execution_count": 24,
   "id": "54cc531c",
   "metadata": {},
   "outputs": [],
   "source": [
    "model.load_weights('model.weights.best.hdf5')"
   ]
  },
  {
   "cell_type": "markdown",
   "id": "75a06ad2",
   "metadata": {},
   "source": [
    "model.load_weights('model.weights.best.hdf5'): This line loads the weights saved in the file named 'model.weights.best.hdf5' into the model. When you train a neural network, especially on large datasets or complex architectures, training can take a long time. It's common practice to save the best weights of the model during training to avoid losing progress in case the training process is interrupted or to use these weights for further analysis."
   ]
  },
  {
   "cell_type": "markdown",
   "id": "fe39569e",
   "metadata": {},
   "source": [
    "### Visualize Some Predictions"
   ]
  },
  {
   "cell_type": "code",
   "execution_count": 25,
   "id": "2456d55a",
   "metadata": {},
   "outputs": [
    {
     "name": "stdout",
     "output_type": "stream",
     "text": [
      "313/313 [==============================] - 2s 7ms/step\n"
     ]
    }
   ],
   "source": [
    "# get predictions on the test set\n",
    "y_hat = model.predict(x_test)\n",
    "\n",
    "mnist10_labels = ['Zero','One','Two','Three','Four','Five','Six','Seven','Eight','Nine']"
   ]
  },
  {
   "cell_type": "code",
   "execution_count": 20,
   "id": "5af309a1",
   "metadata": {},
   "outputs": [
    {
     "data": {
      "text/plain": [
       "(10000, 28, 28)"
      ]
     },
     "execution_count": 20,
     "metadata": {},
     "output_type": "execute_result"
    }
   ],
   "source": [
    "x_test.shape"
   ]
  },
  {
   "cell_type": "code",
   "execution_count": 28,
   "id": "5d1bf7fe",
   "metadata": {},
   "outputs": [
    {
     "data": {
      "image/png": "[encoded data removed]",
      "text/plain": [
       "<Figure size 2000x800 with 32 Axes>"
      ]
     },
     "metadata": {},
     "output_type": "display_data"
    }
   ],
   "source": [
    "# plot a random sample of test images, their predicted labels, and ground truth\n",
    "fig = plt.figure(figsize=(20, 8))\n",
    "for i, idx in enumerate(np.random.choice(x_test.shape[0], size=32, replace=False)):\n",
    "    ax = fig.add_subplot(4, 8, i + 1, xticks=[], yticks=[])\n",
    "    ax.imshow(np.squeeze(x_test[idx]))\n",
    "    pred_idx = np.argmax(y_hat[idx])\n",
    "    true_idx = np.argmax(y_test[idx])\n",
    "    ax.set_title(\"{} ({})\".format(mnist10_labels[pred_idx], mnist10_labels[true_idx]),\n",
    "                 color=(\"blue\" if pred_idx == true_idx else \"red\"))"
   ]
  },
  {
   "cell_type": "markdown",
   "id": "e88745d4",
   "metadata": {},
   "source": [
    "### Accuracy of the model"
   ]
  },
  {
   "cell_type": "code",
   "execution_count": 27,
   "id": "d5c91af1",
   "metadata": {
    "scrolled": true
   },
   "outputs": [
    {
     "name": "stdout",
     "output_type": "stream",
     "text": [
      "[0.021452154964208603, 0.9937000274658203]\n",
      "Test accuracy: 99.37000%\n"
     ]
    }
   ],
   "source": [
    "# evaluate test accuracy\n",
    "score = model.evaluate(x_test, y_test, verbose=0)\n",
    "print(score)\n",
    "accuracy = 100*score[1]\n",
    "\n",
    "# print test accuracy\n",
    "print('Test accuracy: %.5f%%' % accuracy)"
   ]
  },
  {
   "cell_type": "markdown",
   "id": "ab269191",
   "metadata": {},
   "source": [
    "99.37 is very good accuracy for  convolutional Neural Network"
   ]
  },
  {
   "cell_type": "markdown",
   "id": "35bc4a7a",
   "metadata": {},
   "source": [
    "# 2) Logistic Regression"
   ]
  },
  {
   "cell_type": "code",
   "execution_count": 22,
   "id": "63b9f18b",
   "metadata": {},
   "outputs": [
    {
     "name": "stdout",
     "output_type": "stream",
     "text": [
      "1719/1719 [==============================] - 10s 6ms/step\n",
      "313/313 [==============================] - 2s 8ms/step\n",
      "Logistic Regression Accuracy on Test Set: 0.9905\n"
     ]
    }
   ],
   "source": [
    "from sklearn.linear_model import LogisticRegression\n",
    "from sklearn.metrics import accuracy_score\n",
    "\n",
    "# Flatten the output of the CNN to use as input for logistic regression\n",
    "x_train_flatten = model.predict(x_train).reshape(x_train.shape[0], -1)\n",
    "x_test_flatten = model.predict(x_test).reshape(x_test.shape[0], -1)\n",
    "\n",
    "# Convert one-hot encoded labels to 1D array for logistic regression\n",
    "y_train_flat = np.argmax(y_train, axis=1)\n",
    "y_test_flat = np.argmax(y_test, axis=1)\n",
    "\n",
    "# Train logistic regression model\n",
    "logreg_model = LogisticRegression(max_iter=1000)\n",
    "logreg_model.fit(x_train_flatten, y_train_flat)\n",
    "\n",
    "# Make predictions on the test set\n",
    "y_pred = logreg_model.predict(x_test_flatten)\n",
    "\n",
    "# Calculate accuracy\n",
    "accuracy = accuracy_score(y_test_flat, y_pred)\n",
    "print(\"Logistic Regression Accuracy on Test Set:\", accuracy)"
   ]
  },
  {
   "cell_type": "markdown",
   "id": "8f7ac5c8",
   "metadata": {},
   "source": [
    "# 3)  K-Nearest Neighbor"
   ]
  },
  {
   "cell_type": "code",
   "execution_count": 19,
   "id": "76e2d855",
   "metadata": {},
   "outputs": [
    {
     "name": "stdout",
     "output_type": "stream",
     "text": [
      "1719/1719 [==============================] - 13s 7ms/step\n",
      "313/313 [==============================] - 2s 6ms/step\n",
      "k-NN Accuracy on Test Set: 0.9885\n"
     ]
    }
   ],
   "source": [
    "from sklearn.neighbors import KNeighborsClassifier\n",
    "from sklearn.metrics import accuracy_score\n",
    "# Flatten the output of the CNN to use as input for k-NN\n",
    "x_train_flatten = model.predict(x_train).reshape(x_train.shape[0], -1)\n",
    "x_test_flatten = model.predict(x_test).reshape(x_test.shape[0], -1)\n",
    "\n",
    "# Train k-NN model\n",
    "knn_model = KNeighborsClassifier(n_neighbors=5)\n",
    "knn_model.fit(x_train_flatten, np.argmax(y_train, axis=1))\n",
    "\n",
    "# Make predictions on the test set\n",
    "y_pred = knn_model.predict(x_test_flatten)\n",
    "\n",
    "# Calculate accuracy\n",
    "accuracy = accuracy_score(np.argmax(y_test, axis=1), y_pred)\n",
    "print(\"k-NN Accuracy on Test Set:\", accuracy)"
   ]
  },
  {
   "cell_type": "markdown",
   "id": "80984c06",
   "metadata": {},
   "source": [
    "# 4) Support Vector Machine"
   ]
  },
  {
   "cell_type": "code",
   "execution_count": 20,
   "id": "46092e28",
   "metadata": {},
   "outputs": [
    {
     "name": "stdout",
     "output_type": "stream",
     "text": [
      "1719/1719 [==============================] - 12s 7ms/step\n",
      "313/313 [==============================] - 2s 8ms/step\n",
      "SVM Accuracy on Test Set: 0.9896\n"
     ]
    }
   ],
   "source": [
    "from sklearn.svm import SVC\n",
    "from sklearn.metrics import accuracy_score\n",
    "# Flatten the output of the CNN to use as input for SVM\n",
    "x_train_flatten = model.predict(x_train).reshape(x_train.shape[0], -1)\n",
    "x_test_flatten = model.predict(x_test).reshape(x_test.shape[0], -1)\n",
    "\n",
    "# Train SVM model\n",
    "svm_model = SVC(kernel='linear', decision_function_shape='ovr')\n",
    "svm_model.fit(x_train_flatten, np.argmax(y_train, axis=1))\n",
    "\n",
    "# Make predictions on the test set\n",
    "y_pred = svm_model.predict(x_test_flatten)\n",
    "\n",
    "# Calculate accuracy\n",
    "accuracy = accuracy_score(np.argmax(y_test, axis=1), y_pred)\n",
    "print(\"SVM Accuracy on Test Set:\", accuracy)"
   ]
  },
  {
   "cell_type": "markdown",
   "id": "1db3fcb6",
   "metadata": {},
   "source": [
    "# 5) Decision Tree"
   ]
  },
  {
   "cell_type": "code",
   "execution_count": 21,
   "id": "90670171",
   "metadata": {},
   "outputs": [
    {
     "name": "stdout",
     "output_type": "stream",
     "text": [
      "1719/1719 [==============================] - 14s 8ms/step\n",
      "313/313 [==============================] - 2s 7ms/step\n",
      "Decision Tree Accuracy on Test Set: 0.9837\n"
     ]
    }
   ],
   "source": [
    "from sklearn.tree import DecisionTreeClassifier\n",
    "from sklearn.metrics import accuracy_score\n",
    "# Flatten the output of the CNN to use as input for Decision Tree\n",
    "x_train_flatten = model.predict(x_train).reshape(x_train.shape[0], -1)\n",
    "x_test_flatten = model.predict(x_test).reshape(x_test.shape[0], -1)\n",
    "\n",
    "# Train Decision Tree model\n",
    "decision_tree_model = DecisionTreeClassifier()\n",
    "decision_tree_model.fit(x_train_flatten, np.argmax(y_train, axis=1))\n",
    "\n",
    "# Make predictions on the test set\n",
    "y_pred = decision_tree_model.predict(x_test_flatten)\n",
    "\n",
    "# Calculate accuracy\n",
    "accuracy = accuracy_score(np.argmax(y_test, axis=1), y_pred)\n",
    "print(\"Decision Tree Accuracy on Test Set:\", accuracy)"
   ]
  },
  {
   "cell_type": "markdown",
   "id": "8bd14a74",
   "metadata": {},
   "source": [
    "# 6) Random Forest"
   ]
  },
  {
   "cell_type": "code",
   "execution_count": 22,
   "id": "ddd031f4",
   "metadata": {},
   "outputs": [
    {
     "name": "stdout",
     "output_type": "stream",
     "text": [
      "1719/1719 [==============================] - 12s 7ms/step\n",
      "313/313 [==============================] - 2s 7ms/step\n",
      "Random Forest Accuracy on Test Set: 0.9891\n"
     ]
    }
   ],
   "source": [
    "from sklearn.ensemble import RandomForestClassifier\n",
    "from sklearn.metrics import accuracy_score\n",
    "# Flatten the output of the CNN to use as input for Random Forest\n",
    "x_train_flatten = model.predict(x_train).reshape(x_train.shape[0], -1)\n",
    "x_test_flatten = model.predict(x_test).reshape(x_test.shape[0], -1)\n",
    "\n",
    "# Train Random Forest model\n",
    "random_forest_model = RandomForestClassifier(n_estimators=100, random_state=42)\n",
    "random_forest_model.fit(x_train_flatten, np.argmax(y_train, axis=1))\n",
    "\n",
    "# Make predictions on the test set\n",
    "y_pred = random_forest_model.predict(x_test_flatten)\n",
    "\n",
    "# Calculate accuracy\n",
    "accuracy = accuracy_score(np.argmax(y_test, axis=1), y_pred)\n",
    "print(\"Random Forest Accuracy on Test Set:\", accuracy)"
   ]
  },
  {
   "cell_type": "markdown",
   "id": "542d30ec",
   "metadata": {},
   "source": [
    "# 7) Gradient Boosting"
   ]
  },
  {
   "cell_type": "code",
   "execution_count": 23,
   "id": "125652ef",
   "metadata": {},
   "outputs": [
    {
     "name": "stdout",
     "output_type": "stream",
     "text": [
      "1719/1719 [==============================] - 11s 7ms/step\n",
      "313/313 [==============================] - 2s 6ms/step\n",
      "Gradient Boosting Accuracy on Test Set: 0.9877\n"
     ]
    }
   ],
   "source": [
    "from sklearn.ensemble import GradientBoostingClassifier\n",
    "from sklearn.metrics import accuracy_score\n",
    "# Flatten the output of the CNN to use as input for Gradient Boosting\n",
    "x_train_flatten = model.predict(x_train).reshape(x_train.shape[0], -1)\n",
    "x_test_flatten = model.predict(x_test).reshape(x_test.shape[0], -1)\n",
    "\n",
    "# Train Gradient Boosting model\n",
    "gradient_boosting_model = GradientBoostingClassifier(n_estimators=100, learning_rate=0.1, random_state=42)\n",
    "gradient_boosting_model.fit(x_train_flatten, np.argmax(y_train, axis=1))\n",
    "\n",
    "# Make predictions on the test set\n",
    "y_pred = gradient_boosting_model.predict(x_test_flatten)\n",
    "\n",
    "# Calculate accuracy\n",
    "accuracy = accuracy_score(np.argmax(y_test, axis=1), y_pred)\n",
    "print(\"Gradient Boosting Accuracy on Test Set:\", accuracy)"
   ]
  },
  {
   "cell_type": "markdown",
   "id": "4a5083c8",
   "metadata": {},
   "source": [
    "# 8) XG Boosting"
   ]
  },
  {
   "cell_type": "code",
   "execution_count": 28,
   "id": "9848be59",
   "metadata": {
    "scrolled": true
   },
   "outputs": [
    {
     "name": "stdout",
     "output_type": "stream",
     "text": [
      "Accuracy :  98.99 %\n",
      "Classification Report:\n",
      "              precision    recall  f1-score   support\n",
      "\n",
      "           0       0.99      1.00      0.99       980\n",
      "           1       0.99      1.00      1.00      1135\n",
      "           2       0.99      0.99      0.99      1032\n",
      "           3       0.99      1.00      0.99      1010\n",
      "           4       0.99      0.99      0.99       982\n",
      "           5       0.98      0.99      0.99       892\n",
      "           6       1.00      0.99      0.99       958\n",
      "           7       0.99      0.98      0.99      1028\n",
      "           8       0.99      0.99      0.99       974\n",
      "           9       0.98      0.98      0.98      1009\n",
      "\n",
      "    accuracy                           0.99     10000\n",
      "   macro avg       0.99      0.99      0.99     10000\n",
      "weighted avg       0.99      0.99      0.99     10000\n",
      "\n"
     ]
    }
   ],
   "source": [
    "\n",
    "from xgboost import XGBClassifier\n",
    "from sklearn.metrics import accuracy_score, classification_report\n",
    "from sklearn.model_selection import train_test_split\n",
    "\n",
    "clf = XGBClassifier(n_estimators=100, random_state=42)\n",
    "\n",
    "# Train the classifier\n",
    "clf.fit(x_train_flatten, y_train_flat)\n",
    "\n",
    "# Make predictions on the test set\n",
    "y_pred = clf.predict(x_test_flatten)\n",
    "\n",
    "# Evaluate the model\n",
    "accuracy = accuracy_score(y_test_flat, y_pred)\n",
    "print(\"Accuracy : \",accuracy*100,\"%\")\n",
    "\n",
    "# Display classification report\n",
    "print(\"Classification Report:\")\n",
    "print(classification_report(y_test_flat, y_pred))"
   ]
  },
  {
   "cell_type": "markdown",
   "id": "dfc1e933",
   "metadata": {},
   "source": [
    "# Model Comparison Report:-"
   ]
  },
  {
   "cell_type": "markdown",
   "id": "6fe82a51",
   "metadata": {},
   "source": [
    "* Convolutional Neural Newtwork :- 99.37%\n",
    "\n",
    "\n",
    "* Logistic Regression :- 99.05%\n",
    "\n",
    "\n",
    "* K-Nearest Neighbor :- 98.85%\n",
    "    \n",
    "    \n",
    "* Support Vector Machine :- 98.96 %\n",
    "    \n",
    "\n",
    "* Decision Tree Classifier :- 98.37% \n",
    "\n",
    "\n",
    "* Random Forest Classifier :- 98.91%\n",
    "\n",
    "\n",
    "* Gradient Boosting :- 98.77%\n",
    "    \n",
    "\n",
    "* XGBoost :- 98.99%\n",
    "\n",
    "\n",
    "\n",
    "##### The best accuracy is given by the  Convolutional Neural Newtwork :- 99.37%"
   ]
  },
  {
   "cell_type": "markdown",
   "id": "439d8249",
   "metadata": {},
   "source": [
    "# Challenges Faced\n",
    "Challenges in the MNIST dataset include its simplicity, as it may not fully represent the complexity of real-world image recognition tasks. The dataset's small image size and lack of variations in writing styles can make it less challenging for advanced models. Additionally, MNIST's prevalence has led to overfitting issues, where models may perform exceptionally well on MNIST but struggle with more diverse datasets"
   ]
  },
  {
   "cell_type": "markdown",
   "id": "34566518",
   "metadata": {},
   "source": [
    "# Conclusion\n",
    "The MNIST dataset demonstrates the superiority of Convolutional Neural Networks (CNNs) over traditional machine learning models such as logistic regression, k-Nearest Neighbors (k-NN), and Support Vector Machines (SVMs). The exceptional accuracy of the CNN, reaching 99.37%, underscores the effectiveness of deep learning architectures in capturing intricate patterns and spatial relationships within handwritten digits. This result emphasizes the significance of leveraging specialized neural network structures for image classification tasks, showcasing the remarkable performance gain achievable with CNNs on the MNIST dataset."
   ]
  },
  {
   "cell_type": "markdown",
   "id": "8706751c",
   "metadata": {},
   "source": [
    "# Thank you for taking the time to review this project.\n",
    "\n",
    "Best regards,\n",
    "\n",
    "Aarti D. Valase\n"
   ]
  },
  {
   "cell_type": "code",
   "execution_count": null,
   "id": "5ad224aa",
   "metadata": {},
   "outputs": [],
   "source": []
  },
  {
   "cell_type": "code",
   "execution_count": null,
   "id": "07b89738",
   "metadata": {},
   "outputs": [],
   "source": []
  }
 ],
 "metadata": {
  "kernelspec": {
   "display_name": "Python 3 (ipykernel)",
   "language": "python",
   "name": "python3"
  },
  "language_info": {
   "codemirror_mode": {
    "name": "ipython",
    "version": 3
   },
   "file_extension": ".py",
   "mimetype": "text/x-python",
   "name": "python",
   "nbconvert_exporter": "python",
   "pygments_lexer": "ipython3",
   "version": "3.11.3"
  }
 },
 "nbformat": 4,
 "nbformat_minor": 5
}
